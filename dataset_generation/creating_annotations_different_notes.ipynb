{
 "cells": [
  {
   "cell_type": "code",
   "execution_count": 5,
   "metadata": {},
   "outputs": [],
   "source": [
    "import pandas as pd\n",
    "import os\n",
    "import numpy as np\n",
    "from collections import defaultdict"
   ]
  },
  {
   "cell_type": "code",
   "execution_count": 2,
   "metadata": {},
   "outputs": [],
   "source": [
    "map_durations = {'w': 0, 'h': 1, 'q': 2, 'e': 3, 's': 4}"
   ]
  },
  {
   "cell_type": "code",
   "execution_count": 13,
   "metadata": {},
   "outputs": [
    {
     "name": "stdout",
     "output_type": "stream",
     "text": [
      "folder already exists\n"
     ]
    }
   ],
   "source": [
    "file_name = \"train_data_annotations\"\n",
    "try:\n",
    "    os.mkdir('pitch_and_duration_diff_notes')\n",
    "except:\n",
    "    print('folder already exists')\n",
    "\n",
    "path = '/Users/adrianseguralorente/cv-project/datasets/different_notes'\n",
    "\n",
    "with open(f\"pitch_and_duration_diff_notes/{file_name}.csv\",\"w\") as file:\n",
    "    for folder in os.listdir(path):\n",
    "        for image in os.listdir(f'{path}/{folder}'):\n",
    "            file.write(f'{image}, {folder}, {map_durations[image[0]]}\\n')"
   ]
  }
 ],
 "metadata": {
  "kernelspec": {
   "display_name": "Python 3",
   "language": "python",
   "name": "python3"
  },
  "language_info": {
   "codemirror_mode": {
    "name": "ipython",
    "version": 3
   },
   "file_extension": ".py",
   "mimetype": "text/x-python",
   "name": "python",
   "nbconvert_exporter": "python",
   "pygments_lexer": "ipython3",
   "version": "3.11.0"
  }
 },
 "nbformat": 4,
 "nbformat_minor": 2
}
